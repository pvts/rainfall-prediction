{
 "cells": [
  {
   "cell_type": "markdown",
   "metadata": {},
   "source": [
    "Our goal is to predict the probability of Rainfall based on the features at hand. The dataset is ordered by date, in an ascending order. \n",
    "\n",
    "The dataset has been obtained from the Australian Bureau of Meteorology. We have added an extra column to the existing dataset called 'Rain Tomorrow' which is the target variable. Below are the links to the dataset;\n",
    "\n",
    "https://www.kaggle.com/filhypedeeplearning/2020-sydney-daily-weather-observations\n",
    "\n",
    "http://www.bom.gov.au/climate/data/"
   ]
  },
  {
   "cell_type": "code",
   "execution_count": 1,
   "metadata": {},
   "outputs": [],
   "source": [
    "import pandas as pd\n",
    "import numpy as np\n",
    "import matplotlib.pyplot as plt\n",
    "import scipy.stats as stats\n",
    "import datetime\n",
    "from sklearn.model_selection import train_test_split, cross_val_score\n",
    "from sklearn.preprocessing import OrdinalEncoder\n",
    "from sklearn.metrics import accuracy_score\n",
    "from sklearn.naive_bayes import GaussianNB\n",
    "import os\n",
    "import glob"
   ]
  },
  {
   "cell_type": "code",
   "execution_count": 2,
   "metadata": {},
   "outputs": [],
   "source": [
    "path = r'C:\\Users\\Geo\\Downloads\\2020 Sydney Daily Weather Observations'\n",
    "files = glob.iglob(os.path.join(path, \"*.csv\")) \n",
    "\n",
    "df = pd.concat((pd.read_csv(file, index_col='Date', parse_dates=True, \n",
    "                            dayfirst=True, encoding='cp1250') for file in files)) "
   ]
  },
  {
   "cell_type": "markdown",
   "metadata": {},
   "source": [
    "Overview of the dataset."
   ]
  },
  {
   "cell_type": "code",
   "execution_count": 3,
   "metadata": {},
   "outputs": [
    {
     "data": {
      "text/html": [
       "<div>\n",
       "<style scoped>\n",
       "    .dataframe tbody tr th:only-of-type {\n",
       "        vertical-align: middle;\n",
       "    }\n",
       "\n",
       "    .dataframe tbody tr th {\n",
       "        vertical-align: top;\n",
       "    }\n",
       "\n",
       "    .dataframe thead th {\n",
       "        text-align: right;\n",
       "    }\n",
       "</style>\n",
       "<table border=\"1\" class=\"dataframe\">\n",
       "  <thead>\n",
       "    <tr style=\"text-align: right;\">\n",
       "      <th></th>\n",
       "      <th>Minimum temperature (°C)</th>\n",
       "      <th>Maximum temperature (°C)</th>\n",
       "      <th>Rainfall (mm)</th>\n",
       "      <th>Evaporation (mm)</th>\n",
       "      <th>Sunshine (hours)</th>\n",
       "      <th>Direction of maximum wind gust</th>\n",
       "      <th>Speed of maximum wind gust (km/h)</th>\n",
       "      <th>Time of maximum wind gust</th>\n",
       "      <th>9am Temperature (°C)</th>\n",
       "      <th>9am relative humidity (%)</th>\n",
       "      <th>...</th>\n",
       "      <th>9am wind direction</th>\n",
       "      <th>9am wind speed (km/h)</th>\n",
       "      <th>9am MSL pressure (hPa)</th>\n",
       "      <th>3pm Temperature (°C)</th>\n",
       "      <th>3pm relative humidity (%)</th>\n",
       "      <th>3pm cloud amount (oktas)</th>\n",
       "      <th>3pm wind direction</th>\n",
       "      <th>3pm wind speed (km/h)</th>\n",
       "      <th>3pm MSL pressure (hPa)</th>\n",
       "      <th>Rain Tomorrow</th>\n",
       "    </tr>\n",
       "    <tr>\n",
       "      <th>Date</th>\n",
       "      <th></th>\n",
       "      <th></th>\n",
       "      <th></th>\n",
       "      <th></th>\n",
       "      <th></th>\n",
       "      <th></th>\n",
       "      <th></th>\n",
       "      <th></th>\n",
       "      <th></th>\n",
       "      <th></th>\n",
       "      <th></th>\n",
       "      <th></th>\n",
       "      <th></th>\n",
       "      <th></th>\n",
       "      <th></th>\n",
       "      <th></th>\n",
       "      <th></th>\n",
       "      <th></th>\n",
       "      <th></th>\n",
       "      <th></th>\n",
       "      <th></th>\n",
       "    </tr>\n",
       "  </thead>\n",
       "  <tbody>\n",
       "    <tr>\n",
       "      <th>2020-01-01</th>\n",
       "      <td>18.9</td>\n",
       "      <td>27.3</td>\n",
       "      <td>0.0</td>\n",
       "      <td>14.2</td>\n",
       "      <td>4.5</td>\n",
       "      <td>SSW</td>\n",
       "      <td>39.0</td>\n",
       "      <td>23:28</td>\n",
       "      <td>20.9</td>\n",
       "      <td>68.0</td>\n",
       "      <td>...</td>\n",
       "      <td>S</td>\n",
       "      <td>11</td>\n",
       "      <td>1015.0</td>\n",
       "      <td>24.9</td>\n",
       "      <td>60.0</td>\n",
       "      <td>5.0</td>\n",
       "      <td>ESE</td>\n",
       "      <td>24</td>\n",
       "      <td>1013.5</td>\n",
       "      <td>0.0</td>\n",
       "    </tr>\n",
       "    <tr>\n",
       "      <th>2020-01-02</th>\n",
       "      <td>19.3</td>\n",
       "      <td>29.0</td>\n",
       "      <td>0.0</td>\n",
       "      <td>7.2</td>\n",
       "      <td>5.3</td>\n",
       "      <td>SSW</td>\n",
       "      <td>35.0</td>\n",
       "      <td>23:02</td>\n",
       "      <td>22.6</td>\n",
       "      <td>64.0</td>\n",
       "      <td>...</td>\n",
       "      <td>ESE</td>\n",
       "      <td>17</td>\n",
       "      <td>1019.8</td>\n",
       "      <td>27.2</td>\n",
       "      <td>51.0</td>\n",
       "      <td>7.0</td>\n",
       "      <td>ESE</td>\n",
       "      <td>20</td>\n",
       "      <td>1017.4</td>\n",
       "      <td>0.0</td>\n",
       "    </tr>\n",
       "    <tr>\n",
       "      <th>2020-01-03</th>\n",
       "      <td>21.9</td>\n",
       "      <td>29.4</td>\n",
       "      <td>0.0</td>\n",
       "      <td>NaN</td>\n",
       "      <td>8.2</td>\n",
       "      <td>NE</td>\n",
       "      <td>43.0</td>\n",
       "      <td>16:22</td>\n",
       "      <td>24.1</td>\n",
       "      <td>79.0</td>\n",
       "      <td>...</td>\n",
       "      <td>WNW</td>\n",
       "      <td>9</td>\n",
       "      <td>1017.5</td>\n",
       "      <td>27.6</td>\n",
       "      <td>68.0</td>\n",
       "      <td>0.0</td>\n",
       "      <td>E</td>\n",
       "      <td>26</td>\n",
       "      <td>1012.5</td>\n",
       "      <td>0.0</td>\n",
       "    </tr>\n",
       "  </tbody>\n",
       "</table>\n",
       "<p>3 rows × 21 columns</p>\n",
       "</div>"
      ],
      "text/plain": [
       "            Minimum temperature (°C)  Maximum temperature (°C)  Rainfall (mm)  \\\n",
       "Date                                                                            \n",
       "2020-01-01                      18.9                      27.3            0.0   \n",
       "2020-01-02                      19.3                      29.0            0.0   \n",
       "2020-01-03                      21.9                      29.4            0.0   \n",
       "\n",
       "            Evaporation (mm)  Sunshine (hours)  \\\n",
       "Date                                             \n",
       "2020-01-01              14.2               4.5   \n",
       "2020-01-02               7.2               5.3   \n",
       "2020-01-03               NaN               8.2   \n",
       "\n",
       "           Direction of maximum wind gust   Speed of maximum wind gust (km/h)  \\\n",
       "Date                                                                            \n",
       "2020-01-01                             SSW                               39.0   \n",
       "2020-01-02                             SSW                               35.0   \n",
       "2020-01-03                              NE                               43.0   \n",
       "\n",
       "           Time of maximum wind gust  9am Temperature (°C)  \\\n",
       "Date                                                         \n",
       "2020-01-01                     23:28                  20.9   \n",
       "2020-01-02                     23:02                  22.6   \n",
       "2020-01-03                     16:22                  24.1   \n",
       "\n",
       "            9am relative humidity (%)  ...  9am wind direction  \\\n",
       "Date                                   ...                       \n",
       "2020-01-01                       68.0  ...                   S   \n",
       "2020-01-02                       64.0  ...                 ESE   \n",
       "2020-01-03                       79.0  ...                 WNW   \n",
       "\n",
       "           9am wind speed (km/h) 9am MSL pressure (hPa)  3pm Temperature (°C)  \\\n",
       "Date                                                                            \n",
       "2020-01-01                    11                 1015.0                  24.9   \n",
       "2020-01-02                    17                 1019.8                  27.2   \n",
       "2020-01-03                     9                 1017.5                  27.6   \n",
       "\n",
       "            3pm relative humidity (%)  3pm cloud amount (oktas)  \\\n",
       "Date                                                              \n",
       "2020-01-01                       60.0                       5.0   \n",
       "2020-01-02                       51.0                       7.0   \n",
       "2020-01-03                       68.0                       0.0   \n",
       "\n",
       "            3pm wind direction 3pm wind speed (km/h)  3pm MSL pressure (hPa)  \\\n",
       "Date                                                                           \n",
       "2020-01-01                 ESE                    24                  1013.5   \n",
       "2020-01-02                 ESE                    20                  1017.4   \n",
       "2020-01-03                   E                    26                  1012.5   \n",
       "\n",
       "            Rain Tomorrow  \n",
       "Date                       \n",
       "2020-01-01            0.0  \n",
       "2020-01-02            0.0  \n",
       "2020-01-03            0.0  \n",
       "\n",
       "[3 rows x 21 columns]"
      ]
     },
     "execution_count": 3,
     "metadata": {},
     "output_type": "execute_result"
    }
   ],
   "source": [
    "df.head(3)"
   ]
  },
  {
   "cell_type": "markdown",
   "metadata": {},
   "source": [
    "The dataframe contains **366** rows, the total number of days in 2020 (leap year), and **21** distinct columns (excluding the 'Date' column). The 'Rain Tomorrow' column has been manually added in order to be used in our analysis."
   ]
  },
  {
   "cell_type": "code",
   "execution_count": 4,
   "metadata": {},
   "outputs": [
    {
     "name": "stdout",
     "output_type": "stream",
     "text": [
      "(366, 21)\n"
     ]
    }
   ],
   "source": [
    "print(df.shape)"
   ]
  },
  {
   "cell_type": "markdown",
   "metadata": {},
   "source": [
    "Let's have a look at the descriptive statistics of this dataframe. "
   ]
  },
  {
   "cell_type": "code",
   "execution_count": 5,
   "metadata": {},
   "outputs": [
    {
     "data": {
      "text/html": [
       "<div>\n",
       "<style scoped>\n",
       "    .dataframe tbody tr th:only-of-type {\n",
       "        vertical-align: middle;\n",
       "    }\n",
       "\n",
       "    .dataframe tbody tr th {\n",
       "        vertical-align: top;\n",
       "    }\n",
       "\n",
       "    .dataframe thead th {\n",
       "        text-align: right;\n",
       "    }\n",
       "</style>\n",
       "<table border=\"1\" class=\"dataframe\">\n",
       "  <thead>\n",
       "    <tr style=\"text-align: right;\">\n",
       "      <th></th>\n",
       "      <th>Minimum temperature (°C)</th>\n",
       "      <th>Maximum temperature (°C)</th>\n",
       "      <th>Rainfall (mm)</th>\n",
       "      <th>Evaporation (mm)</th>\n",
       "      <th>Sunshine (hours)</th>\n",
       "      <th>Speed of maximum wind gust (km/h)</th>\n",
       "      <th>9am Temperature (°C)</th>\n",
       "      <th>9am relative humidity (%)</th>\n",
       "      <th>9am cloud amount (oktas)</th>\n",
       "      <th>9am MSL pressure (hPa)</th>\n",
       "      <th>3pm Temperature (°C)</th>\n",
       "      <th>3pm relative humidity (%)</th>\n",
       "      <th>3pm cloud amount (oktas)</th>\n",
       "      <th>3pm wind speed (km/h)</th>\n",
       "      <th>3pm MSL pressure (hPa)</th>\n",
       "      <th>Rain Tomorrow</th>\n",
       "    </tr>\n",
       "  </thead>\n",
       "  <tbody>\n",
       "    <tr>\n",
       "      <th>count</th>\n",
       "      <td>366.000000</td>\n",
       "      <td>364.000000</td>\n",
       "      <td>362.000000</td>\n",
       "      <td>356.000000</td>\n",
       "      <td>362.000000</td>\n",
       "      <td>365.000000</td>\n",
       "      <td>366.000000</td>\n",
       "      <td>365.000000</td>\n",
       "      <td>365.000000</td>\n",
       "      <td>366.000000</td>\n",
       "      <td>364.000000</td>\n",
       "      <td>364.000000</td>\n",
       "      <td>365.000000</td>\n",
       "      <td>366.000000</td>\n",
       "      <td>366.000000</td>\n",
       "      <td>365.000000</td>\n",
       "    </tr>\n",
       "    <tr>\n",
       "      <th>mean</th>\n",
       "      <td>14.670219</td>\n",
       "      <td>23.510714</td>\n",
       "      <td>4.285083</td>\n",
       "      <td>5.382865</td>\n",
       "      <td>6.525414</td>\n",
       "      <td>42.663014</td>\n",
       "      <td>17.531421</td>\n",
       "      <td>77.649315</td>\n",
       "      <td>4.526027</td>\n",
       "      <td>1018.417760</td>\n",
       "      <td>21.991758</td>\n",
       "      <td>60.728022</td>\n",
       "      <td>4.616438</td>\n",
       "      <td>19.598361</td>\n",
       "      <td>1016.027869</td>\n",
       "      <td>0.438356</td>\n",
       "    </tr>\n",
       "    <tr>\n",
       "      <th>std</th>\n",
       "      <td>4.354354</td>\n",
       "      <td>4.786657</td>\n",
       "      <td>13.519783</td>\n",
       "      <td>3.317315</td>\n",
       "      <td>4.020979</td>\n",
       "      <td>14.720617</td>\n",
       "      <td>4.456772</td>\n",
       "      <td>15.420757</td>\n",
       "      <td>2.812356</td>\n",
       "      <td>7.478648</td>\n",
       "      <td>4.737866</td>\n",
       "      <td>17.664775</td>\n",
       "      <td>2.689163</td>\n",
       "      <td>7.990741</td>\n",
       "      <td>7.517114</td>\n",
       "      <td>0.496867</td>\n",
       "    </tr>\n",
       "    <tr>\n",
       "      <th>min</th>\n",
       "      <td>6.200000</td>\n",
       "      <td>13.600000</td>\n",
       "      <td>0.000000</td>\n",
       "      <td>0.000000</td>\n",
       "      <td>0.000000</td>\n",
       "      <td>17.000000</td>\n",
       "      <td>8.100000</td>\n",
       "      <td>36.000000</td>\n",
       "      <td>0.000000</td>\n",
       "      <td>997.400000</td>\n",
       "      <td>10.500000</td>\n",
       "      <td>19.000000</td>\n",
       "      <td>0.000000</td>\n",
       "      <td>2.000000</td>\n",
       "      <td>992.200000</td>\n",
       "      <td>0.000000</td>\n",
       "    </tr>\n",
       "    <tr>\n",
       "      <th>25%</th>\n",
       "      <td>10.900000</td>\n",
       "      <td>19.700000</td>\n",
       "      <td>0.000000</td>\n",
       "      <td>3.000000</td>\n",
       "      <td>2.800000</td>\n",
       "      <td>31.000000</td>\n",
       "      <td>13.800000</td>\n",
       "      <td>67.000000</td>\n",
       "      <td>1.000000</td>\n",
       "      <td>1013.450000</td>\n",
       "      <td>18.600000</td>\n",
       "      <td>50.000000</td>\n",
       "      <td>2.000000</td>\n",
       "      <td>15.000000</td>\n",
       "      <td>1010.650000</td>\n",
       "      <td>0.000000</td>\n",
       "    </tr>\n",
       "    <tr>\n",
       "      <th>50%</th>\n",
       "      <td>14.800000</td>\n",
       "      <td>23.400000</td>\n",
       "      <td>0.000000</td>\n",
       "      <td>4.800000</td>\n",
       "      <td>7.600000</td>\n",
       "      <td>41.000000</td>\n",
       "      <td>17.950000</td>\n",
       "      <td>80.000000</td>\n",
       "      <td>6.000000</td>\n",
       "      <td>1018.650000</td>\n",
       "      <td>21.900000</td>\n",
       "      <td>60.500000</td>\n",
       "      <td>6.000000</td>\n",
       "      <td>19.000000</td>\n",
       "      <td>1016.500000</td>\n",
       "      <td>0.000000</td>\n",
       "    </tr>\n",
       "    <tr>\n",
       "      <th>75%</th>\n",
       "      <td>18.275000</td>\n",
       "      <td>26.500000</td>\n",
       "      <td>2.550000</td>\n",
       "      <td>7.200000</td>\n",
       "      <td>9.900000</td>\n",
       "      <td>50.000000</td>\n",
       "      <td>21.000000</td>\n",
       "      <td>90.000000</td>\n",
       "      <td>7.000000</td>\n",
       "      <td>1023.850000</td>\n",
       "      <td>24.900000</td>\n",
       "      <td>71.000000</td>\n",
       "      <td>7.000000</td>\n",
       "      <td>24.000000</td>\n",
       "      <td>1021.675000</td>\n",
       "      <td>1.000000</td>\n",
       "    </tr>\n",
       "    <tr>\n",
       "      <th>max</th>\n",
       "      <td>25.300000</td>\n",
       "      <td>41.200000</td>\n",
       "      <td>164.800000</td>\n",
       "      <td>25.400000</td>\n",
       "      <td>13.400000</td>\n",
       "      <td>106.000000</td>\n",
       "      <td>31.200000</td>\n",
       "      <td>100.000000</td>\n",
       "      <td>8.000000</td>\n",
       "      <td>1038.300000</td>\n",
       "      <td>40.800000</td>\n",
       "      <td>100.000000</td>\n",
       "      <td>8.000000</td>\n",
       "      <td>59.000000</td>\n",
       "      <td>1035.100000</td>\n",
       "      <td>1.000000</td>\n",
       "    </tr>\n",
       "  </tbody>\n",
       "</table>\n",
       "</div>"
      ],
      "text/plain": [
       "       Minimum temperature (°C)  Maximum temperature (°C)  Rainfall (mm)  \\\n",
       "count                366.000000                364.000000     362.000000   \n",
       "mean                  14.670219                 23.510714       4.285083   \n",
       "std                    4.354354                  4.786657      13.519783   \n",
       "min                    6.200000                 13.600000       0.000000   \n",
       "25%                   10.900000                 19.700000       0.000000   \n",
       "50%                   14.800000                 23.400000       0.000000   \n",
       "75%                   18.275000                 26.500000       2.550000   \n",
       "max                   25.300000                 41.200000     164.800000   \n",
       "\n",
       "       Evaporation (mm)  Sunshine (hours)  Speed of maximum wind gust (km/h)  \\\n",
       "count        356.000000        362.000000                         365.000000   \n",
       "mean           5.382865          6.525414                          42.663014   \n",
       "std            3.317315          4.020979                          14.720617   \n",
       "min            0.000000          0.000000                          17.000000   \n",
       "25%            3.000000          2.800000                          31.000000   \n",
       "50%            4.800000          7.600000                          41.000000   \n",
       "75%            7.200000          9.900000                          50.000000   \n",
       "max           25.400000         13.400000                         106.000000   \n",
       "\n",
       "       9am Temperature (°C)  9am relative humidity (%)  \\\n",
       "count            366.000000                 365.000000   \n",
       "mean              17.531421                  77.649315   \n",
       "std                4.456772                  15.420757   \n",
       "min                8.100000                  36.000000   \n",
       "25%               13.800000                  67.000000   \n",
       "50%               17.950000                  80.000000   \n",
       "75%               21.000000                  90.000000   \n",
       "max               31.200000                 100.000000   \n",
       "\n",
       "       9am cloud amount (oktas)  9am MSL pressure (hPa)  3pm Temperature (°C)  \\\n",
       "count                365.000000              366.000000            364.000000   \n",
       "mean                   4.526027             1018.417760             21.991758   \n",
       "std                    2.812356                7.478648              4.737866   \n",
       "min                    0.000000              997.400000             10.500000   \n",
       "25%                    1.000000             1013.450000             18.600000   \n",
       "50%                    6.000000             1018.650000             21.900000   \n",
       "75%                    7.000000             1023.850000             24.900000   \n",
       "max                    8.000000             1038.300000             40.800000   \n",
       "\n",
       "       3pm relative humidity (%)  3pm cloud amount (oktas)  \\\n",
       "count                 364.000000                365.000000   \n",
       "mean                   60.728022                  4.616438   \n",
       "std                    17.664775                  2.689163   \n",
       "min                    19.000000                  0.000000   \n",
       "25%                    50.000000                  2.000000   \n",
       "50%                    60.500000                  6.000000   \n",
       "75%                    71.000000                  7.000000   \n",
       "max                   100.000000                  8.000000   \n",
       "\n",
       "       3pm wind speed (km/h)  3pm MSL pressure (hPa)  Rain Tomorrow  \n",
       "count             366.000000              366.000000     365.000000  \n",
       "mean               19.598361             1016.027869       0.438356  \n",
       "std                 7.990741                7.517114       0.496867  \n",
       "min                 2.000000              992.200000       0.000000  \n",
       "25%                15.000000             1010.650000       0.000000  \n",
       "50%                19.000000             1016.500000       0.000000  \n",
       "75%                24.000000             1021.675000       1.000000  \n",
       "max                59.000000             1035.100000       1.000000  "
      ]
     },
     "execution_count": 5,
     "metadata": {},
     "output_type": "execute_result"
    }
   ],
   "source": [
    "df.describe()"
   ]
  },
  {
   "cell_type": "markdown",
   "metadata": {},
   "source": [
    "We can see on the above table that on average there were 6.5 hours of sunshine in Sydney across the whole year. The existence of **outliers** in some features can also be confirmed by looking at the descriptive statistics. For instance, in the Rainfall column we see that the mean is 4.28mm and that the maximum value is 164.8mm, which of course is way off the mean.\n",
    "\n",
    "The total number of missing values of each column can be found below. The feature with the most missing values is 'Evaporation (mm)' with 10 NAs in total. Before further proceeding with our analysis, we need to find an appropriate way to handle the missing data. Since the dataset is small, it is preferable to not remove the NAs but rather impute them."
   ]
  },
  {
   "cell_type": "code",
   "execution_count": 6,
   "metadata": {},
   "outputs": [
    {
     "data": {
      "text/plain": [
       "Minimum temperature (°C)              0\n",
       "Maximum temperature (°C)              2\n",
       "Rainfall (mm)                         4\n",
       "Evaporation (mm)                     10\n",
       "Sunshine (hours)                      4\n",
       "Direction of maximum wind gust        1\n",
       "Speed of maximum wind gust (km/h)     1\n",
       "Time of maximum wind gust             1\n",
       "9am Temperature (°C)                  0\n",
       "9am relative humidity (%)             1\n",
       "9am cloud amount (oktas)              1\n",
       "9am wind direction                    0\n",
       "9am wind speed (km/h)                 0\n",
       "9am MSL pressure (hPa)                0\n",
       "3pm Temperature (°C)                  2\n",
       "3pm relative humidity (%)             2\n",
       "3pm cloud amount (oktas)              1\n",
       "3pm wind direction                    0\n",
       "3pm wind speed (km/h)                 0\n",
       "3pm MSL pressure (hPa)                0\n",
       "Rain Tomorrow                         1\n",
       "dtype: int64"
      ]
     },
     "execution_count": 6,
     "metadata": {},
     "output_type": "execute_result"
    }
   ],
   "source": [
    "df.isna().sum()"
   ]
  },
  {
   "cell_type": "markdown",
   "metadata": {},
   "source": [
    "By using 'ffill' we are carrying the last observation forward thus replacing the NA value with it."
   ]
  },
  {
   "cell_type": "code",
   "execution_count": 7,
   "metadata": {},
   "outputs": [],
   "source": [
    "df = df.fillna(method='ffill')"
   ]
  },
  {
   "cell_type": "markdown",
   "metadata": {},
   "source": [
    "## EDA"
   ]
  },
  {
   "cell_type": "markdown",
   "metadata": {},
   "source": [
    "We can make some interesting observations by looking at the fluctuation of both the Maximum and Minimum temperatures across the whole year. It is noticable that they follow a similar trend and that there are a few outliers in the Maximum Temperature column that skew the mean upwards. We don't observe any extreme values in the other column though but we will verify this claim in the next plot."
   ]
  },
  {
   "cell_type": "code",
   "execution_count": 8,
   "metadata": {},
   "outputs": [
    {
     "data": {
      "image/png": "[encoded data removed]",
      "text/plain": [
       "<Figure size 864x504 with 1 Axes>"
      ]
     },
     "metadata": {
      "needs_background": "light"
     },
     "output_type": "display_data"
    }
   ],
   "source": [
    "max_temp = df['Maximum temperature (°C)']\n",
    "min_temp = df['Minimum temperature (°C)']\n",
    "\n",
    "min_temp.plot(figsize=(12,7), legend=True)\n",
    "max_temp.plot(figsize=(12,7), color='r', legend=True)\n",
    "plt.title('Maximum and Minimum Temperature across 2020 per day')\n",
    "plt.ylabel('Temperature (°C)')\n",
    "plt.show()"
   ]
  },
  {
   "cell_type": "markdown",
   "metadata": {},
   "source": [
    "In line with our expectations, the boxplot confirms the existence of outliers in the first variable, temperatures approximately over 37 degrees Celcius. There are no outliers observed in the 'Minimum temperature' feature though."
   ]
  },
  {
   "cell_type": "code",
   "execution_count": 9,
   "metadata": {},
   "outputs": [
    {
     "data": {
      "image/png": "[encoded data removed]",
      "text/plain": [
       "<Figure size 648x648 with 2 Axes>"
      ]
     },
     "metadata": {
      "needs_background": "light"
     },
     "output_type": "display_data"
    }
   ],
   "source": [
    "fig, (ax1, ax2) = plt.subplots(1, 2, figsize=(9,9), sharex=True)\n",
    "ax1.boxplot(max_temp, notch=True)\n",
    "ax1.set_title('Boxplot of Maximum Temperature', fontsize=15, fontweight='black', color='#333F4B')\n",
    "ax1.set_ylabel('Temperature (°C)', fontsize=12)\n",
    "\n",
    "#2nd plot\n",
    "ax2.boxplot(min_temp, notch=True)\n",
    "ax2.set_title('Boxplot of Minimum Temperature', fontsize=15, fontweight='black', color='#333F4B')\n",
    "plt.subplots_adjust(left=7, right=9, wspace=0.15)\n",
    "plt.xticks([])\n",
    "plt.show()"
   ]
  },
  {
   "cell_type": "markdown",
   "metadata": {},
   "source": [
    "But when were these extremely high temperatures recorded? "
   ]
  },
  {
   "cell_type": "code",
   "execution_count": 10,
   "metadata": {},
   "outputs": [
    {
     "data": {
      "image/png": "[encoded data removed]",
      "text/plain": [
       "<Figure size 504x360 with 1 Axes>"
      ]
     },
     "metadata": {
      "needs_background": "light"
     },
     "output_type": "display_data"
    }
   ],
   "source": [
    "#subsetting the df\n",
    "over_37 = max_temp[max_temp>37]\n",
    "dates = over_37.index.strftime(\"%b %d %Y\")\n",
    "\n",
    "#barh plot\n",
    "fig, ax = plt.subplots(figsize=(7,5))\n",
    "ax.bar(dates, over_37)\n",
    "ax.set_title('Highest temperatures in 2020')\n",
    "ax.set_ylabel('Temperature (°C)')\n",
    "plt.show()"
   ]
  },
  {
   "cell_type": "markdown",
   "metadata": {},
   "source": [
    "One of these values was captured in March which is at the beginning of Autumn in Australia.\n",
    "\n",
    "Based on the descriptive statistics we checked earlier, the 9am MSL pressure (hPa) feature appeared to follow, to a certain extent, a normal distribution. We can verify that by plotting a histogram and drawing the line as below. "
   ]
  },
  {
   "cell_type": "code",
   "execution_count": 11,
   "metadata": {},
   "outputs": [
    {
     "data": {
      "image/png": "[encoded data removed]",
      "text/plain": [
       "<Figure size 432x288 with 1 Axes>"
      ]
     },
     "metadata": {
      "needs_background": "light"
     },
     "output_type": "display_data"
    }
   ],
   "source": [
    "morning_msl_pressure = df['9am MSL pressure (hPa)']\n",
    "\n",
    "n, bins, patches = plt.hist(morning_msl_pressure, 100, density=1)\n",
    "mu = np.mean(morning_msl_pressure)\n",
    "sigma = np.std(morning_msl_pressure)\n",
    "plt.plot(bins, stats.norm.pdf(bins, mu, sigma))\n",
    "plt.xlabel('MSL pressure')\n",
    "plt.legend(['sd: ' + str(round(sigma, 2)), 'mean: ' + str(round(mu, 2))])\n",
    "plt.title('Distribution - 9am MSL pressure (hPa)')\n",
    "plt.show()"
   ]
  },
  {
   "cell_type": "code",
   "execution_count": 12,
   "metadata": {},
   "outputs": [
    {
     "name": "stdout",
     "output_type": "stream",
     "text": [
      "Mean: 1018.65\n",
      "Median: 1018.418\n"
     ]
    }
   ],
   "source": [
    "print('Mean:', round(morning_msl_pressure.median(), 3))\n",
    "print('Median:', round(morning_msl_pressure.mean(), 3))"
   ]
  },
  {
   "cell_type": "markdown",
   "metadata": {},
   "source": [
    "We can visualize how many days it rained in the city in 2020. To begin with, we define a function to calculate the number of days it rained. We find that there was rainfall in **162** days, while there wasn't any in the remaining **204**."
   ]
  },
  {
   "cell_type": "code",
   "execution_count": 13,
   "metadata": {},
   "outputs": [],
   "source": [
    "def rain(col):\n",
    "    rained, not_rained = 0, 0\n",
    "    for i in col:\n",
    "        if i!=0:\n",
    "            rained+=1\n",
    "        else:\n",
    "            not_rained+=1\n",
    "    return rained, not_rained"
   ]
  },
  {
   "cell_type": "code",
   "execution_count": 14,
   "metadata": {},
   "outputs": [
    {
     "data": {
      "image/png": "[encoded data removed]",
      "text/plain": [
       "<Figure size 792x792 with 1 Axes>"
      ]
     },
     "metadata": {
      "needs_background": "light"
     },
     "output_type": "display_data"
    }
   ],
   "source": [
    "number_rain_days = [rain(df['Rainfall (mm)'])[0], rain(df['Rainfall (mm)'])[1]]\n",
    "\n",
    "plt.figure(figsize=(11,11))\n",
    "plt.bar(np.arange(0,2), number_rain_days, width=0.5, tick_label=('Rain', 'No Rain'),\n",
    "        color=['lightseagreen','gray'])\n",
    "plt.title('Days of Rainfall in 2020 in Sydney')\n",
    "plt.ylabel('Number of days', fontsize=12)\n",
    "plt.show()"
   ]
  },
  {
   "cell_type": "markdown",
   "metadata": {},
   "source": [
    "It would be interesting to see the months with the most sunshine on average."
   ]
  },
  {
   "cell_type": "code",
   "execution_count": 15,
   "metadata": {},
   "outputs": [
    {
     "data": {
      "image/png": "[encoded data removed]",
      "text/plain": [
       "<Figure size 1080x648 with 1 Axes>"
      ]
     },
     "metadata": {
      "needs_background": "light"
     },
     "output_type": "display_data"
    }
   ],
   "source": [
    "avg_sunshine_per_month = df['Sunshine (hours)'].groupby(pd.Grouper(freq=\"M\")).mean() \n",
    "locs = np.array(np.arange(0,12))\n",
    "months = np.unique(df.index.strftime('%m/%Y').tolist())\n",
    "colormap = np.array(['g', 'b', 'r', 'y', 'orange', 'black', 'gold', 'teal', \n",
    "                     'yellowgreen', 'royalblue', 'gray', 'blueviolet'])\n",
    "\n",
    "plt.figure(figsize=(15, 9))\n",
    "plt.barh(months, avg_sunshine_per_month, color=colormap[locs])\n",
    "plt.title('Hours of Sunshine on average per month', fontsize=13, fontweight='black', color = '#333F4B')\n",
    "plt.xlabel('Hours of sunshine', fontsize=11)\n",
    "plt.ylabel('Month', fontsize=11)\n",
    "plt.show()"
   ]
  },
  {
   "cell_type": "markdown",
   "metadata": {},
   "source": [
    "The months that the most hours of sunshine in 2020 were observed are between August and November."
   ]
  },
  {
   "cell_type": "markdown",
   "metadata": {},
   "source": [
    "## Preprocessing"
   ]
  },
  {
   "cell_type": "markdown",
   "metadata": {},
   "source": [
    "We have already cleaned the dataset but there is some more work to be done. Machine Learning models cannot discern non-numeric data therefore we need to convert those columns to the right datatype. We define a function below which counts the number of columns that contain non-numeric values and at the same time saves their index in a list. This function would be even more useful in larger, higher dimensional datasets."
   ]
  },
  {
   "cell_type": "code",
   "execution_count": 16,
   "metadata": {},
   "outputs": [],
   "source": [
    "def count_str_columns(dataframe):\n",
    "    str_cols, count = list(), 0\n",
    "    for y, z in enumerate(dataframe):\n",
    "        if any(isinstance(i, str) for i in dataframe.iloc[:,y]):\n",
    "            str_cols.append(y)\n",
    "            count+=1\n",
    "    return count, str_cols"
   ]
  },
  {
   "cell_type": "code",
   "execution_count": 17,
   "metadata": {},
   "outputs": [
    {
     "name": "stdout",
     "output_type": "stream",
     "text": [
      "Total of non-numeric columns: 5\n",
      "Index of non-numeric columns: [5, 7, 11, 12, 17]\n"
     ]
    }
   ],
   "source": [
    "print(f'Total of non-numeric columns: {count_str_columns(df)[0]}')\n",
    "print(f'Index of non-numeric columns: {count_str_columns(df)[1]}')"
   ]
  },
  {
   "cell_type": "markdown",
   "metadata": {},
   "source": [
    "Since this is not a high dimensional dataset we can cross check this by looking at the summary of the dataframe. There are 5 non-numeric columns, at the indices that we previously returned."
   ]
  },
  {
   "cell_type": "code",
   "execution_count": 18,
   "metadata": {},
   "outputs": [
    {
     "name": "stdout",
     "output_type": "stream",
     "text": [
      "<class 'pandas.core.frame.DataFrame'>\n",
      "DatetimeIndex: 366 entries, 2020-01-01 to 2020-12-31\n",
      "Data columns (total 21 columns):\n",
      " #   Column                             Non-Null Count  Dtype  \n",
      "---  ------                             --------------  -----  \n",
      " 0   Minimum temperature (°C)           366 non-null    float64\n",
      " 1   Maximum temperature (°C)           366 non-null    float64\n",
      " 2   Rainfall (mm)                      366 non-null    float64\n",
      " 3   Evaporation (mm)                   366 non-null    float64\n",
      " 4   Sunshine (hours)                   366 non-null    float64\n",
      " 5   Direction of maximum wind gust     366 non-null    object \n",
      " 6   Speed of maximum wind gust (km/h)  366 non-null    float64\n",
      " 7   Time of maximum wind gust          366 non-null    object \n",
      " 8   9am Temperature (°C)               366 non-null    float64\n",
      " 9   9am relative humidity (%)          366 non-null    float64\n",
      " 10  9am cloud amount (oktas)           366 non-null    float64\n",
      " 11  9am wind direction                 366 non-null    object \n",
      " 12  9am wind speed (km/h)              366 non-null    object \n",
      " 13  9am MSL pressure (hPa)             366 non-null    float64\n",
      " 14  3pm Temperature (°C)               366 non-null    float64\n",
      " 15  3pm relative humidity (%)          366 non-null    float64\n",
      " 16  3pm cloud amount (oktas)           366 non-null    float64\n",
      " 17  3pm wind direction                 366 non-null    object \n",
      " 18  3pm wind speed (km/h)              366 non-null    int64  \n",
      " 19  3pm MSL pressure (hPa)             366 non-null    float64\n",
      " 20  Rain Tomorrow                      366 non-null    float64\n",
      "dtypes: float64(15), int64(1), object(5)\n",
      "memory usage: 62.9+ KB\n"
     ]
    }
   ],
   "source": [
    "df.info()"
   ]
  },
  {
   "cell_type": "markdown",
   "metadata": {},
   "source": [
    "By looking at the said features, we notice that the '9am wind speed (km/h)' column should have been a continuous variable. We need to check if there are any discrepancies in the values of the column."
   ]
  },
  {
   "cell_type": "code",
   "execution_count": 19,
   "metadata": {},
   "outputs": [
    {
     "data": {
      "text/html": [
       "<div>\n",
       "<style scoped>\n",
       "    .dataframe tbody tr th:only-of-type {\n",
       "        vertical-align: middle;\n",
       "    }\n",
       "\n",
       "    .dataframe tbody tr th {\n",
       "        vertical-align: top;\n",
       "    }\n",
       "\n",
       "    .dataframe thead th {\n",
       "        text-align: right;\n",
       "    }\n",
       "</style>\n",
       "<table border=\"1\" class=\"dataframe\">\n",
       "  <thead>\n",
       "    <tr style=\"text-align: right;\">\n",
       "      <th></th>\n",
       "      <th>Direction of maximum wind gust</th>\n",
       "      <th>Time of maximum wind gust</th>\n",
       "      <th>9am wind direction</th>\n",
       "      <th>9am wind speed (km/h)</th>\n",
       "      <th>3pm wind direction</th>\n",
       "    </tr>\n",
       "    <tr>\n",
       "      <th>Date</th>\n",
       "      <th></th>\n",
       "      <th></th>\n",
       "      <th></th>\n",
       "      <th></th>\n",
       "      <th></th>\n",
       "    </tr>\n",
       "  </thead>\n",
       "  <tbody>\n",
       "    <tr>\n",
       "      <th>2020-01-01</th>\n",
       "      <td>SSW</td>\n",
       "      <td>23:28</td>\n",
       "      <td>S</td>\n",
       "      <td>11</td>\n",
       "      <td>ESE</td>\n",
       "    </tr>\n",
       "    <tr>\n",
       "      <th>2020-01-02</th>\n",
       "      <td>SSW</td>\n",
       "      <td>23:02</td>\n",
       "      <td>ESE</td>\n",
       "      <td>17</td>\n",
       "      <td>ESE</td>\n",
       "    </tr>\n",
       "    <tr>\n",
       "      <th>2020-01-03</th>\n",
       "      <td>NE</td>\n",
       "      <td>16:22</td>\n",
       "      <td>WNW</td>\n",
       "      <td>9</td>\n",
       "      <td>E</td>\n",
       "    </tr>\n",
       "    <tr>\n",
       "      <th>2020-01-04</th>\n",
       "      <td>S</td>\n",
       "      <td>22:23</td>\n",
       "      <td>E</td>\n",
       "      <td>9</td>\n",
       "      <td>E</td>\n",
       "    </tr>\n",
       "    <tr>\n",
       "      <th>2020-01-05</th>\n",
       "      <td>SSW</td>\n",
       "      <td>23:05</td>\n",
       "      <td>S</td>\n",
       "      <td>20</td>\n",
       "      <td>S</td>\n",
       "    </tr>\n",
       "  </tbody>\n",
       "</table>\n",
       "</div>"
      ],
      "text/plain": [
       "           Direction of maximum wind gust  Time of maximum wind gust  \\\n",
       "Date                                                                   \n",
       "2020-01-01                             SSW                     23:28   \n",
       "2020-01-02                             SSW                     23:02   \n",
       "2020-01-03                              NE                     16:22   \n",
       "2020-01-04                               S                     22:23   \n",
       "2020-01-05                             SSW                     23:05   \n",
       "\n",
       "           9am wind direction 9am wind speed (km/h) 3pm wind direction  \n",
       "Date                                                                    \n",
       "2020-01-01                  S                    11                ESE  \n",
       "2020-01-02                ESE                    17                ESE  \n",
       "2020-01-03                WNW                     9                  E  \n",
       "2020-01-04                  E                     9                  E  \n",
       "2020-01-05                  S                    20                  S  "
      ]
     },
     "execution_count": 19,
     "metadata": {},
     "output_type": "execute_result"
    }
   ],
   "source": [
    "df.iloc[:, count_str_columns(df)[1]].head()"
   ]
  },
  {
   "cell_type": "code",
   "execution_count": 20,
   "metadata": {},
   "outputs": [
    {
     "name": "stdout",
     "output_type": "stream",
     "text": [
      "['11' '17' '9' '20' '4' '15' '24' '13' 'Calm' '2' '22' '28' '6' '19' '7'\n",
      " '35' '43' 4 17 15 28 13 19 11 41 22 7 9 6 20 2 33 35 24 31 30 26 '39'\n",
      " '26' 43 '30'] \n",
      "\n",
      "Instances of Calm: 5\n"
     ]
    }
   ],
   "source": [
    "print(df.iloc[:, 12].unique(),'\\n')\n",
    "print('Instances of Calm:', df.iloc[:, 12][df.iloc[:, 12]=='Calm'].count())"
   ]
  },
  {
   "cell_type": "markdown",
   "metadata": {},
   "source": [
    "There is indeed a value called 'Calm' which is present in 5 different instances. We need to convert the instances of this value into numerical ones. Based on the Beaufort scale, wind speeds less than 2 km/h are classified as Calm. We will therefore convert the corresponding values to 1 km/h and subsequently convert all the values of this column into integers. \n",
    "\n",
    "For more information on the Beaufort scale:  https://en.wikipedia.org/wiki/Beaufort_scale"
   ]
  },
  {
   "cell_type": "code",
   "execution_count": 23,
   "metadata": {},
   "outputs": [],
   "source": [
    "from sklearn.preprocessing import OneHotEncoder"
   ]
  },
  {
   "cell_type": "code",
   "execution_count": 28,
   "metadata": {},
   "outputs": [],
   "source": [
    "df.loc[(df.iloc[:,12]=='Calm'), ('9am wind speed (km/h)')] = 1\n",
    "df['9am wind speed (km/h)'] = df.iloc[:,12].astype('int64')\n",
    "\n",
    "\n",
    "ohe = OneHotEncoder(sparse=False)\n",
    "df['3pm wind direction'] = ohe.fit_transform(np.array(df['3pm wind direction']).reshape(-1,1))\n",
    "df['Direction of maximum wind gust '] = ohe.fit_transform(np.array(df['Direction of maximum wind gust ']).reshape(-1,1))\n",
    "df['9am wind direction'] = ohe.fit_transform(np.array(df['9am wind direction']).reshape(-1,1))"
   ]
  },
  {
   "cell_type": "markdown",
   "metadata": {},
   "source": [
    "## Model"
   ]
  },
  {
   "cell_type": "markdown",
   "metadata": {},
   "source": [
    "Firstly, we define the target variable, y, and the independent variables, X."
   ]
  },
  {
   "cell_type": "code",
   "execution_count": 30,
   "metadata": {},
   "outputs": [],
   "source": [
    "X = df.drop(['Rain Tomorrow', 'Time of maximum wind gust'], axis=1)\n",
    "y = df.iloc[:,-1].values"
   ]
  },
  {
   "cell_type": "markdown",
   "metadata": {},
   "source": [
    "We split the dataset by setting the test size to 20%."
   ]
  },
  {
   "cell_type": "code",
   "execution_count": 31,
   "metadata": {},
   "outputs": [],
   "source": [
    "X_train, X_test, y_train, y_test = train_test_split(X, y, test_size=0.2,\n",
    "                                                    random_state=12)"
   ]
  },
  {
   "cell_type": "code",
   "execution_count": 32,
   "metadata": {},
   "outputs": [],
   "source": [
    "gnb = GaussianNB()\n",
    "pred = gnb.fit(X_train, y_train)\n",
    "y_pred = pred.predict(X_test)"
   ]
  },
  {
   "cell_type": "code",
   "execution_count": 33,
   "metadata": {},
   "outputs": [
    {
     "data": {
      "text/plain": [
       "0.7433172898926323"
      ]
     },
     "execution_count": 33,
     "metadata": {},
     "output_type": "execute_result"
    }
   ],
   "source": [
    "gnb = GaussianNB()\n",
    "cross_val_score(gnb, X, y, cv = 5).mean()"
   ]
  },
  {
   "cell_type": "code",
   "execution_count": 34,
   "metadata": {},
   "outputs": [
    {
     "data": {
      "text/plain": [
       "0.7567567567567568"
      ]
     },
     "execution_count": 34,
     "metadata": {},
     "output_type": "execute_result"
    }
   ],
   "source": [
    "accuracy_score(y_test, y_pred)"
   ]
  },
  {
   "cell_type": "code",
   "execution_count": 37,
   "metadata": {},
   "outputs": [
    {
     "data": {
      "text/plain": [
       "0.0    0.560109\n",
       "1.0    0.439891\n",
       "Name: Rain Tomorrow, dtype: float64"
      ]
     },
     "execution_count": 37,
     "metadata": {},
     "output_type": "execute_result"
    }
   ],
   "source": [
    "df.iloc[:,-1].value_counts(normalize=True)"
   ]
  }
 ],
 "metadata": {
  "kernelspec": {
   "display_name": "Python 3",
   "language": "python",
   "name": "python3"
  },
  "language_info": {
   "codemirror_mode": {
    "name": "ipython",
    "version": 3
   },
   "file_extension": ".py",
   "mimetype": "text/x-python",
   "name": "python",
   "nbconvert_exporter": "python",
   "pygments_lexer": "ipython3",
   "version": "3.7.6"
  },
  "toc": {
   "base_numbering": 1,
   "nav_menu": {},
   "number_sections": true,
   "sideBar": true,
   "skip_h1_title": false,
   "title_cell": "Table of Contents",
   "title_sidebar": "Contents",
   "toc_cell": false,
   "toc_position": {},
   "toc_section_display": true,
   "toc_window_display": false
  }
 },
 "nbformat": 4,
 "nbformat_minor": 4
}
